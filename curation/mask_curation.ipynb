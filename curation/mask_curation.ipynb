{
 "cells": [
  {
   "cell_type": "code",
   "execution_count": 1,
   "id": "e4899504",
   "metadata": {},
   "outputs": [],
   "source": [
    "import shutil\n",
    "import time\n",
    "\n",
    "import os\n",
    "import SimpleITK as sitk\n",
    "import pydicom as pydicom\n",
    "\n",
    "from tqdm import tqdm\n",
    "\n",
    "import subprocess\n",
    "\n",
    "import pandas as pd\n",
    "\n",
    "from concurrent.futures import ThreadPoolExecutor\n",
    "NUM_WORKERS = 16\n",
    "\n",
    "%matplotlib notebook\n",
    "import gui\n",
    "import registration_gui as rgui"
   ]
  },
  {
   "cell_type": "code",
   "execution_count": 2,
   "id": "f853d57d",
   "metadata": {},
   "outputs": [],
   "source": [
    "DATA_DIR = r\"/home/thulasiseetha/research/dataset/raw/BrainMR\""
   ]
  },
  {
   "cell_type": "markdown",
   "id": "eee74bb3",
   "metadata": {},
   "source": [
    "# Generating Brain & Tissue Segmentation Masks For T1vibe FS Images"
   ]
  },
  {
   "cell_type": "code",
   "execution_count": 3,
   "id": "fe5c6a2e",
   "metadata": {},
   "outputs": [],
   "source": [
    "pids = [fname.split(\".\")[0] for fname in os.listdir(os.path.join(DATA_DIR, \"t1v_fs\", \"imgs\"))]"
   ]
  },
  {
   "cell_type": "code",
   "execution_count": 4,
   "id": "ea079698",
   "metadata": {},
   "outputs": [],
   "source": [
    "def execute_command(command):\n",
    "\n",
    "    process = subprocess.Popen(command, shell=True, stdout=subprocess.PIPE, stderr=subprocess.PIPE)\n",
    "    output, error = process.communicate()\n",
    "    return (command, output, error)\n",
    "\n",
    "def process(pid, sequence):\n",
    "    \n",
    "    IMG_DIR = os.path.join(DATA_DIR, sequence, \"imgs\")\n",
    "    OUT_MASK_DIR = os.path.join(DATA_DIR, sequence, \"masks\")\n",
    "    \n",
    "    img_file = os.path.join(IMG_DIR, f\"{pid}.nii.gz\")\n",
    "    out_mask_dir = os.path.join(OUT_MASK_DIR, pid)\n",
    "    \n",
    "    if not os.path.exists(out_mask_dir):\n",
    "        os.makedirs(out_mask_dir)\n",
    "        \n",
    "    brainMask_file = os.path.join(out_mask_dir, \"brainMask.nii.gz\")\n",
    "    brainMaskedImg_file = os.path.join(out_mask_dir, \"brainMaskedImg.nii.gz\")\n",
    "    \n",
    "    command = f\"mri_synthstrip -i {img_file} -m {brainMask_file} -o {brainMaskedImg_file}\"\n",
    "    \n",
    "    command, output, error = execute_command(command)\n",
    "    \n",
    "    if not error:\n",
    "        \n",
    "        t = 1 if \"t1\" in sequence else 2 #otherwise its t2\n",
    "        n = 3 if \"t1\" in sequence else 4 #otherwise its t2\n",
    "        \n",
    "        #Also, if you are segmenting T2-weighted images, you may need to select 4 classes so that dark non-brain matter is processed correctly (this is not a problem with T1-weighted as CSF and dark non-brain matter look similar).\n",
    "    \n",
    "        tissueMask_prefix = os.path.join(out_mask_dir, \"tissue\")\n",
    "        command = f\"fast -t {t} -o {tissueMask_prefix} -n {n} {brainMaskedImg_file}\"\n",
    "\n",
    "        command, output, error = execute_command(command)\n",
    "        \n",
    "    if error:\n",
    "        print(f\"Error executing command '{command}': {error.decode()} for {pid}\")\n",
    "    \n",
    "    pbar.update()\n",
    "    "
   ]
  },
  {
   "cell_type": "code",
   "execution_count": 8,
   "id": "3c081617",
   "metadata": {},
   "outputs": [
    {
     "name": "stderr",
     "output_type": "stream",
     "text": [
      "Processing patients: 100%|████████████████████████████████████████████████████████████████████████████████████████████| 52/52 [24:05<00:00, 34.78s/it]"
     ]
    }
   ],
   "source": [
    "pbar = tqdm(pids, desc = \"Processing patients\", position=0)\n",
    "\n",
    "with ThreadPoolExecutor(max_workers=NUM_WORKERS) as e:e.map(process, pids, [\"t2w_nfs\"]*len(pids))"
   ]
  },
  {
   "cell_type": "code",
   "execution_count": 9,
   "id": "1d717bae",
   "metadata": {},
   "outputs": [
    {
     "name": "stderr",
     "output_type": "stream",
     "text": [
      "Processing patients: 100%|████████████████████████████████████████████████████████████████████████████████████████████| 52/52 [24:05<00:00, 27.80s/it]\n",
      "Processing patients: 100%|████████████████████████████████████████████████████████████████████████████████████████████| 52/52 [13:07<00:00, 12.22s/it]"
     ]
    }
   ],
   "source": [
    "pbar = tqdm(pids, desc = \"Processing patients\", position=0)\n",
    "\n",
    "with ThreadPoolExecutor(max_workers=NUM_WORKERS) as e:e.map(process, pids, [\"t2w_fs\"]*len(pids))"
   ]
  },
  {
   "cell_type": "markdown",
   "id": "770c3646",
   "metadata": {},
   "source": [
    "# Registering T2w_nfs with T2w_fs and exporting them along with masks"
   ]
  },
  {
   "cell_type": "code",
   "execution_count": 10,
   "id": "00dcd81b",
   "metadata": {},
   "outputs": [],
   "source": [
    "OUT_DATA_DIR = r\"/home/thulasiseetha/research/dataset/curated/BrainMR\""
   ]
  },
  {
   "cell_type": "code",
   "execution_count": 11,
   "id": "eec0a04e",
   "metadata": {},
   "outputs": [],
   "source": [
    "def register_using_rigid(fixed_image, moving_image, verbose=False):\n",
    "    \n",
    "    RIGID_NUM_ITER = 100\n",
    "    \n",
    "    initial_transform = sitk.CenteredTransformInitializer(\n",
    "    fixed_image,\n",
    "    moving_image,\n",
    "    sitk.Euler3DTransform(),\n",
    "    sitk.CenteredTransformInitializerFilter.GEOMETRY,\n",
    "    )\n",
    "    \n",
    "    registration_method = sitk.ImageRegistrationMethod()\n",
    "\n",
    "    # Similarity metric settings.\n",
    "    registration_method.SetMetricAsMattesMutualInformation(numberOfHistogramBins=50)\n",
    "    registration_method.SetMetricSamplingStrategy(registration_method.RANDOM)\n",
    "    registration_method.SetMetricSamplingPercentage(0.01)\n",
    "\n",
    "    registration_method.SetInterpolator(sitk.sitkLinear)\n",
    "\n",
    "    # Optimizer settings.\n",
    "    registration_method.SetOptimizerAsGradientDescent(learningRate=1.0,numberOfIterations=RIGID_NUM_ITER,convergenceMinimumValue=1e-6,convergenceWindowSize=10,)\n",
    "    registration_method.SetOptimizerScalesFromPhysicalShift()\n",
    "\n",
    "    # Don't optimize in-place, we would possibly like to run this cell multiple times.\n",
    "    registration_method.SetInitialTransform(initial_transform, inPlace=False)\n",
    "    \n",
    "    if verbose:\n",
    "        # Connect all of the observers so that we can perform plotting during registration.\n",
    "        registration_method.AddCommand(sitk.sitkStartEvent, rgui.start_plot)\n",
    "        registration_method.AddCommand(sitk.sitkEndEvent, rgui.end_plot)\n",
    "        registration_method.AddCommand(sitk.sitkMultiResolutionIterationEvent, rgui.update_multires_iterations)\n",
    "        registration_method.AddCommand(sitk.sitkIterationEvent, lambda: rgui.plot_values(registration_method))\n",
    "\n",
    "    final_transform = registration_method.Execute(fixed_image, moving_image)\n",
    "\n",
    "    if verbose:\n",
    "        # Always check the reason optimization terminated.\n",
    "        print(\"Final metric value: {0}\".format(registration_method.GetMetricValue()))\n",
    "        print(\"Optimizer's stopping condition, {0}\".format(registration_method.GetOptimizerStopConditionDescription()))\n",
    "        \n",
    "    \n",
    "    return final_transform"
   ]
  },
  {
   "cell_type": "code",
   "execution_count": 12,
   "id": "84c1c028",
   "metadata": {},
   "outputs": [],
   "source": [
    "def register(pid, verbose=False):\n",
    "    \n",
    "    t2w_fs_img = fixed_img = sitk.ReadImage(PAT_RECORDS[pid][\"t2w_fs\"][\"img\"], sitk.sitkFloat32)\n",
    "    t2w_nfs_img = moving_img = sitk.ReadImage(PAT_RECORDS[pid][\"t2w_nfs\"][\"img\"], sitk.sitkFloat32)\n",
    "    \n",
    "    t2w_nfs_mask = sitk.ReadImage(PAT_RECORDS[pid][\"t2w_nfs\"][\"mask\"])\n",
    "    \n",
    "    final_transform = register_using_rigid(fixed_img, moving_img, verbose)\n",
    "\n",
    "    reg_t2w_nfs_img = sitk.Resample(\n",
    "        t2w_nfs_img,\n",
    "        t2w_fs_img,\n",
    "        final_transform,\n",
    "        sitk.sitkLinear,\n",
    "        0.0,\n",
    "        moving_img.GetPixelID(),\n",
    "        useNearestNeighborExtrapolator=True\n",
    "    )\n",
    "    \n",
    "    t2w_fs_mask = reg_t2w_nfs_mask = sitk.Resample(\n",
    "        t2w_nfs_mask,\n",
    "        t2w_fs_img,\n",
    "        final_transform,\n",
    "        sitk.sitkNearestNeighbor,\n",
    "        0.0,\n",
    "        moving_img.GetPixelID(),\n",
    "    )\n",
    "    \n",
    "    out_dir = os.path.join(OUT_DATA_DIR, \"t2w_nfs\", pid)\n",
    "    if not os.path.exists(out_dir):\n",
    "        os.makedirs(out_dir)\n",
    "        \n",
    "    sitk.WriteImage(sitk.Cast(reg_t2w_nfs_img, sitk.sitkUInt16), os.path.join(out_dir, \"img.nii.gz\"))\n",
    "    sitk.WriteImage(sitk.Cast(reg_t2w_nfs_mask, sitk.sitkUInt16), os.path.join(out_dir, \"mask.nii.gz\"))\n",
    "    \n",
    "    \n",
    "    out_dir = os.path.join(OUT_DATA_DIR, \"t2w_fs\", pid)\n",
    "    if not os.path.exists(out_dir):\n",
    "        os.makedirs(out_dir)\n",
    "        \n",
    "    sitk.WriteImage(sitk.Cast(t2w_fs_img, sitk.sitkUInt16), os.path.join(out_dir, \"img.nii.gz\"))\n",
    "    sitk.WriteImage(sitk.Cast(t2w_fs_mask, sitk.sitkUInt16), os.path.join(out_dir, \"mask.nii.gz\"))\n",
    "    \n",
    "    \n",
    "    \n",
    "    pbar.update()\n",
    "    \n",
    "    \n",
    "    "
   ]
  },
  {
   "cell_type": "code",
   "execution_count": 13,
   "id": "c9afe3b3",
   "metadata": {},
   "outputs": [
    {
     "name": "stderr",
     "output_type": "stream",
     "text": [
      "\n",
      "100%|█████████████████████████████████████████████████████████████████████████████████████████████████████████████| 52/52 [00:00<00:00, 103710.80it/s]\u001b[A\n",
      "Processing patients: 100%|████████████████████████████████████████████████████████████████████████████████████████████| 52/52 [18:18<00:00, 21.13s/it]\n",
      "registration and curation in progress: 100%|██████████████████████████████████████████████████████████████████████████| 52/52 [00:37<00:00,  5.29it/s]"
     ]
    }
   ],
   "source": [
    "PAT_RECORDS = {}\n",
    "\n",
    "for pid in tqdm(pids):\n",
    "    \n",
    "    PAT_RECORDS[pid] = {\"t2w_nfs\":{\"img\":os.path.join(DATA_DIR, \"t2w_nfs\", \"imgs\", f\"{pid}.nii.gz\" ), \"mask\":os.path.join(DATA_DIR, \"t2w_nfs\", \"masks\", pid, \"tissue_seg.nii.gz\")},\n",
    "                        \"t2w_fs\":{\"img\":os.path.join(DATA_DIR, \"t2w_fs\", \"imgs\", f\"{pid}.nii.gz\")}}\n",
    "\n",
    "pbar = tqdm(pids, desc=\"registration and curation in progress\", position=0)\n",
    "with ThreadPoolExecutor(max_workers=NUM_WORKERS) as e:e.map(register, pids)\n",
    "    "
   ]
  }
 ],
 "metadata": {
  "kernelspec": {
   "display_name": "Python 3 (ipykernel)",
   "language": "python",
   "name": "python3"
  },
  "language_info": {
   "codemirror_mode": {
    "name": "ipython",
    "version": 3
   },
   "file_extension": ".py",
   "mimetype": "text/x-python",
   "name": "python",
   "nbconvert_exporter": "python",
   "pygments_lexer": "ipython3",
   "version": "3.7.5"
  }
 },
 "nbformat": 4,
 "nbformat_minor": 5
}
